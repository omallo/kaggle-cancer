{
 "cells": [
  {
   "cell_type": "code",
   "execution_count": null,
   "metadata": {
    "_uuid": "3781b17cea43d3d4cc0a8fb3db762e1462f2bf72"
   },
   "outputs": [],
   "source": [
    "!pip install -q fastai==1.0.45 torchsummary pretrainedmodels"
   ]
  },
  {
   "cell_type": "code",
   "execution_count": null,
   "metadata": {
    "_cell_guid": "b1076dfc-b9ad-4769-8c92-a6c4dae69d19",
    "_uuid": "8f2839f25d086af736a60e9eeb907d3b93b6e0e5"
   },
   "outputs": [],
   "source": [
    "%reload_ext autoreload\n",
    "%autoreload 2\n",
    "%matplotlib inline"
   ]
  },
  {
   "cell_type": "code",
   "execution_count": null,
   "metadata": {
    "_cell_guid": "79c7e3d0-c299-4dcb-8224-4455121ee9b0",
    "_uuid": "d629ff2d2480ee46fbb7e2d37f6b5fab8052498a"
   },
   "outputs": [],
   "source": [
    "from fastai import *\n",
    "from fastai.vision import *\n",
    "from sklearn.metrics import roc_auc_score\n",
    "from torchvision import models as tvmodels\n",
    "from pretrainedmodels import models as ptmodels\n",
    "from torchsummary import summary"
   ]
  },
  {
   "cell_type": "code",
   "execution_count": null,
   "metadata": {
    "_uuid": "f9e5f1bb5cef42101f395d3a389683220db29f35"
   },
   "outputs": [],
   "source": [
    "class AucScore(Callback):\n",
    "    def on_epoch_begin(self, **kwargs):\n",
    "        self.y_score = []\n",
    "        self.y_true = []\n",
    "\n",
    "    def on_batch_end(self, last_output, last_target, **kwargs):\n",
    "        self.y_score.extend(to_np(torch.softmax(last_output, dim=1)[:, 1]))\n",
    "        self.y_true.extend(to_np(last_target))\n",
    "\n",
    "    def on_epoch_end(self, **kwargs):\n",
    "        self.metric = roc_auc_score(self.y_true, self.y_score).item()"
   ]
  },
  {
   "cell_type": "code",
   "execution_count": null,
   "metadata": {
    "_uuid": "2fe2e5b7cbc2e85e32a4d681d9a937c1182f981e"
   },
   "outputs": [],
   "source": [
    "path = Path('../input')\n",
    "train_csv_path = path/'train_labels.csv'\n",
    "submission_csv_path = path/'sample_submission.csv'"
   ]
  },
  {
   "cell_type": "code",
   "execution_count": null,
   "metadata": {
    "_uuid": "531d479dde9f90e5c4a735f65978dfea71374033"
   },
   "outputs": [],
   "source": [
    "BS=64\n",
    "VAL_BS=64\n",
    "CROP_CENTER=False\n",
    "SIZE=32 if CROP_CENTER else 96\n",
    "RESIZE=ResizeMethod.CROP\n",
    "PAD='reflection'\n",
    "DATA_PCT=1.0\n",
    "VALID_PCT=0.2\n",
    "MODEL='resnet34'\n",
    "#MODEL_FUNC=lambda p: ptmodels.densenet121(pretrained='imagenet' if p else None)\n",
    "#MODEL_FUNC=tvmodels.densenet201\n",
    "MODEL_FUNC=models.resnet34\n",
    "PRETRAINED=True\n",
    "DROPOUT=0.2\n",
    "METRICS=[accuracy, AucScore()]\n",
    "LR_FIND=False"
   ]
  },
  {
   "cell_type": "code",
   "execution_count": null,
   "metadata": {
    "_uuid": "56cad7c99092e5451780cb160eb4accd1996ab54"
   },
   "outputs": [],
   "source": [
    "train_df = pd.read_csv(train_csv_path)\n",
    "train_df.head()"
   ]
  },
  {
   "cell_type": "code",
   "execution_count": null,
   "metadata": {
    "_uuid": "7246f47098c468d50f55c52a4f52221d386eb406"
   },
   "outputs": [],
   "source": [
    "train_df.groupby('label').count()"
   ]
  },
  {
   "cell_type": "code",
   "execution_count": null,
   "metadata": {
    "_uuid": "f218de2885993f987288d2e2c8dc7add9a5953d9"
   },
   "outputs": [],
   "source": [
    "path.ls()"
   ]
  },
  {
   "cell_type": "code",
   "execution_count": null,
   "metadata": {
    "_uuid": "b0c88c3916056694c559bbb2c0e9cf5c696d077c"
   },
   "outputs": [],
   "source": [
    "class MyImageItemList(ImageItemList):\n",
    "    def open(self, fn):\n",
    "        image = super().open(fn)\n",
    "        if CROP_CENTER:\n",
    "            image.pixel(lambda px: px[:, 32:64, 32:64])\n",
    "        return image\n",
    "\n",
    "tfms = get_transforms(flip_vert=True, max_rotate=0.0, max_zoom=0.1, max_lighting=0.05, max_warp=0.0)\n",
    "\n",
    "data = (MyImageItemList.from_csv(path, 'train_labels.csv', folder='train', suffix='.tif')\n",
    "        .use_partial_data(sample_pct=DATA_PCT, seed=42)\n",
    "        .random_split_by_pct(valid_pct=VALID_PCT, seed=42)\n",
    "        .label_from_df(classes=[0, 1])\n",
    "        .add_test(MyImageItemList.from_csv(path, 'sample_submission.csv', folder='test', suffix='.tif'))\n",
    "        .transform(tfms, size=SIZE, padding_mode=PAD, resize_method=RESIZE)\n",
    "        .databunch(bs=BS, val_bs=VAL_BS)\n",
    "        .normalize())"
   ]
  },
  {
   "cell_type": "code",
   "execution_count": null,
   "metadata": {
    "_uuid": "3b11198bb9a5b1e1067b5bf80893a8dbc5e009f1"
   },
   "outputs": [],
   "source": [
    "data.classes, data.c"
   ]
  },
  {
   "cell_type": "code",
   "execution_count": null,
   "metadata": {
    "_uuid": "cda65c34411702dbd93fcee5065397baa78e4b8f"
   },
   "outputs": [],
   "source": [
    "len(data.train_ds), len(data.valid_ds), len(data.test_ds)"
   ]
  },
  {
   "cell_type": "code",
   "execution_count": null,
   "metadata": {
    "_uuid": "1a7815cb0698ade62537e5b4b70e17e5fbaef452"
   },
   "outputs": [],
   "source": [
    "len([y for y in data.train_ds.y if y.obj == 0])"
   ]
  },
  {
   "cell_type": "code",
   "execution_count": null,
   "metadata": {
    "_uuid": "ab13d4a05e8a2bb8ecf9674128f0406300cb9697"
   },
   "outputs": [],
   "source": [
    "data.show_batch(rows=5, figsize=(12, 9))"
   ]
  },
  {
   "cell_type": "code",
   "execution_count": null,
   "metadata": {
    "_uuid": "7fea76dd490e7a84fe211a7bb186df53472e6d1f",
    "scrolled": true
   },
   "outputs": [],
   "source": [
    "learn = create_cnn(data, MODEL_FUNC, pretrained=PRETRAINED, ps=DROPOUT, metrics=METRICS, path='.')"
   ]
  },
  {
   "cell_type": "code",
   "execution_count": null,
   "metadata": {
    "_uuid": "93cfd2b39ec0b71bab6e658940f10f76afff1ff2",
    "scrolled": true
   },
   "outputs": [],
   "source": [
    "#summary(learn.model, input_size=(3, SIZE, SIZE))"
   ]
  },
  {
   "cell_type": "code",
   "execution_count": null,
   "metadata": {
    "_uuid": "1d35382d497fd856788a745d91fde140ae8171d2"
   },
   "outputs": [],
   "source": [
    "if PRETRAINED:\n",
    "    learn.freeze()"
   ]
  },
  {
   "cell_type": "code",
   "execution_count": null,
   "metadata": {
    "_uuid": "4fc7669330004acd3c297ea606dbde440411f98d",
    "scrolled": false
   },
   "outputs": [],
   "source": [
    "if PRETRAINED and LR_FIND:\n",
    "    learn.save(MODEL)\n",
    "    learn.lr_find()\n",
    "    learn.recorder.plot()\n",
    "    _ = learn.load(MODEL)"
   ]
  },
  {
   "cell_type": "code",
   "execution_count": null,
   "metadata": {
    "_uuid": "9e0ba2256ac394c90ae61c3a53707a27f79d3000"
   },
   "outputs": [],
   "source": [
    "%%time\n",
    "if PRETRAINED:\n",
    "    learn.fit_one_cycle(5, slice(3e-3))\n",
    "    learn.save(MODEL)\n",
    "    learn.recorder.plot_losses()"
   ]
  },
  {
   "cell_type": "code",
   "execution_count": null,
   "metadata": {
    "_uuid": "0168d79868c4b59e5f6b8669e80ef2e416035f2f"
   },
   "outputs": [],
   "source": [
    "learn.validate(data.train_dl)"
   ]
  },
  {
   "cell_type": "code",
   "execution_count": null,
   "metadata": {
    "_uuid": "af31b69040fad505a63166593aee8649f5889c39"
   },
   "outputs": [],
   "source": [
    "learn.validate(data.valid_dl)"
   ]
  },
  {
   "cell_type": "code",
   "execution_count": null,
   "metadata": {
    "_uuid": "1b3b6b4e9d6f4d83cb27bb92bc88695a7ac4fdd7"
   },
   "outputs": [],
   "source": [
    "learn.unfreeze()"
   ]
  },
  {
   "cell_type": "code",
   "execution_count": null,
   "metadata": {
    "_uuid": "ff9d7a56cfd5864d3d56aa2b2de03b1072d805fb"
   },
   "outputs": [],
   "source": [
    "if LR_FIND:\n",
    "    learn.save(MODEL)\n",
    "    learn.lr_find()\n",
    "    learn.recorder.plot()\n",
    "    _ = learn.load(MODEL)"
   ]
  },
  {
   "cell_type": "code",
   "execution_count": null,
   "metadata": {
    "_uuid": "4edd1716fe5d8b505b9fa32b1e630bce1990791c"
   },
   "outputs": [],
   "source": [
    "%%time\n",
    "learn.fit_one_cycle(5, slice(1e-5, 3e-3 / 5))\n",
    "learn.save(MODEL)\n",
    "learn.recorder.plot_losses()"
   ]
  },
  {
   "cell_type": "code",
   "execution_count": null,
   "metadata": {
    "_uuid": "0168d79868c4b59e5f6b8669e80ef2e416035f2f"
   },
   "outputs": [],
   "source": [
    "learn.validate(data.train_dl)"
   ]
  },
  {
   "cell_type": "code",
   "execution_count": null,
   "metadata": {
    "_uuid": "af31b69040fad505a63166593aee8649f5889c39"
   },
   "outputs": [],
   "source": [
    "learn.validate(data.valid_dl)"
   ]
  },
  {
   "cell_type": "code",
   "execution_count": null,
   "metadata": {
    "_uuid": "733efbcb134b80614b82489ccb0360177d9b49eb"
   },
   "outputs": [],
   "source": [
    "%%time\n",
    "preds, _ = learn.get_preds(ds_type=DatasetType.Test)\n",
    "pred_classes = to_np(preds[:, 1])"
   ]
  },
  {
   "cell_type": "code",
   "execution_count": null,
   "metadata": {
    "_uuid": "087fa3a0d830a22d896aeb20cd3295324a9c678e"
   },
   "outputs": [],
   "source": [
    "submission_df = pd.read_csv(submission_csv_path)\n",
    "submission_df['label'] = pred_classes\n",
    "submission_df.to_csv('./submission.csv', index=False)"
   ]
  },
  {
   "cell_type": "code",
   "execution_count": null,
   "metadata": {
    "_uuid": "fec2187787628d8ee86b96d50ba29dcae8348b7e"
   },
   "outputs": [],
   "source": [
    "submission_df = pd.read_csv('./submission.csv')\n",
    "submission_df.head()"
   ]
  },
  {
   "cell_type": "code",
   "execution_count": null,
   "metadata": {
    "_uuid": "18bbdb15cb5b9ca475bd7f6d4ea1db0712594594"
   },
   "outputs": [],
   "source": []
  }
 ],
 "metadata": {
  "kernelspec": {
   "display_name": "Python 3",
   "language": "python",
   "name": "python3"
  },
  "language_info": {
   "codemirror_mode": {
    "name": "ipython",
    "version": 3
   },
   "file_extension": ".py",
   "mimetype": "text/x-python",
   "name": "python",
   "nbconvert_exporter": "python",
   "pygments_lexer": "ipython3",
   "version": "3.6.6"
  }
 },
 "nbformat": 4,
 "nbformat_minor": 1
}
